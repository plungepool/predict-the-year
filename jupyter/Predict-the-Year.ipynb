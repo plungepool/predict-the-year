{
 "cells": [
  {
   "cell_type": "code",
   "execution_count": 5,
   "id": "9fd5cfec",
   "metadata": {},
   "outputs": [],
   "source": [
    "# Standard imports\n",
    "import numpy as np\n",
    "import pandas as pd\n",
    "import matplotlib.pyplot as plt\n",
    "%matplotlib inline\n",
    "import sklearn"
   ]
  },
  {
   "cell_type": "code",
   "execution_count": 6,
   "id": "263e8220",
   "metadata": {},
   "outputs": [],
   "source": [
    "# import data\n",
    "df = pd.read_csv(\"data_SpotifyTop100PerYear.csv\")"
   ]
  },
  {
   "cell_type": "code",
   "execution_count": 11,
   "id": "604a42d4",
   "metadata": {},
   "outputs": [],
   "source": [
    "# x is all data except what we want to predict and unwanted categorical data\n",
    "x = df.drop([\"year\", \"artists\", \"id\", \"name\", \"release_date\"], axis=1)\n",
    "# x.head()"
   ]
  },
  {
   "cell_type": "code",
   "execution_count": 12,
   "id": "f8f1aaa3",
   "metadata": {},
   "outputs": [],
   "source": [
    "# y is what we want to predict\n",
    "y = df[\"year\"]\n",
    "# y.head()"
   ]
  },
  {
   "cell_type": "code",
   "execution_count": 13,
   "id": "9950d828",
   "metadata": {},
   "outputs": [],
   "source": [
    "# Splits data into training and test sets\n",
    "from sklearn.model_selection import train_test_split\n",
    "x_train, x_test, y_train, y_test = train_test_split(x, y, test_size=0.2)"
   ]
  },
  {
   "cell_type": "code",
   "execution_count": 14,
   "id": "3c2aa97d",
   "metadata": {},
   "outputs": [
    {
     "data": {
      "text/plain": [
       "((135927, 14), (33982, 14), (135927,), (33982,))"
      ]
     },
     "execution_count": 14,
     "metadata": {},
     "output_type": "execute_result"
    }
   ],
   "source": [
    "# Shows how data is being split\n",
    "x_train.shape, x_test.shape, y_train.shape, y_test.shape"
   ]
  },
  {
   "cell_type": "code",
   "execution_count": 9,
   "id": "62a911a9",
   "metadata": {},
   "outputs": [],
   "source": [
    "# Build machine learning model\n",
    "from sklearn.ensemble import RandomForestRegressor\n",
    "model = RandomForestRegressor()"
   ]
  },
  {
   "cell_type": "code",
   "execution_count": 10,
   "id": "7b3b14a9",
   "metadata": {},
   "outputs": [
    {
     "data": {
      "text/plain": [
       "RandomForestRegressor()"
      ]
     },
     "execution_count": 10,
     "metadata": {},
     "output_type": "execute_result"
    }
   ],
   "source": [
    "# fit the model\n",
    "model.fit(x_train, y_train)"
   ]
  },
  {
   "cell_type": "code",
   "execution_count": 11,
   "id": "a75f896d",
   "metadata": {},
   "outputs": [
    {
     "data": {
      "text/plain": [
       "0.8624218220975652"
      ]
     },
     "execution_count": 11,
     "metadata": {},
     "output_type": "execute_result"
    }
   ],
   "source": [
    "# test the model\n",
    "model.score(x_test, y_test)"
   ]
  },
  {
   "cell_type": "code",
   "execution_count": 12,
   "id": "ad9f5732",
   "metadata": {},
   "outputs": [],
   "source": [
    "# Export model\n",
    "import pickle\n",
    "filename='model.pkl'\n",
    "pickle.dump(model, open(filename, 'wb'))"
   ]
  },
  {
   "cell_type": "code",
   "execution_count": 45,
   "id": "e2971259",
   "metadata": {},
   "outputs": [
    {
     "data": {
      "text/plain": [
       "6097295"
      ]
     },
     "execution_count": 45,
     "metadata": {},
     "output_type": "execute_result"
    }
   ],
   "source": [
    "# Export copy of test data\n",
    "f = open('test_data.csv', 'w', encoding=\"utf-8\")\n",
    "# print(pd.concat([x_test, y_test], axis=1))\n",
    "td = pd.concat([x_test, y_test], axis=1)\n",
    "td = td.merge(df, how='left')\n",
    "f.write(td.to_csv())"
   ]
  }
 ],
 "metadata": {
  "kernelspec": {
   "display_name": "Python 3 (ipykernel)",
   "language": "python",
   "name": "python3"
  },
  "language_info": {
   "codemirror_mode": {
    "name": "ipython",
    "version": 3
   },
   "file_extension": ".py",
   "mimetype": "text/x-python",
   "name": "python",
   "nbconvert_exporter": "python",
   "pygments_lexer": "ipython3",
   "version": "3.9.7"
  }
 },
 "nbformat": 4,
 "nbformat_minor": 5
}